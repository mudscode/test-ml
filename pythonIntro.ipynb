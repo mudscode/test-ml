{
 "cells": [
  {
   "cell_type": "markdown",
   "id": "9408deb8",
   "metadata": {},
   "source": [
    "## Jupyter notebooks are amazing"
   ]
  },
  {
   "cell_type": "code",
   "execution_count": 1,
   "id": "a96c1479-5b70-4f63-b4c2-ba02f01a160b",
   "metadata": {},
   "outputs": [
    {
     "name": "stdout",
     "output_type": "stream",
     "text": [
      "Hi from the jupyter notebook\n"
     ]
    }
   ],
   "source": [
    "# Hello\n",
    "print(\"Hi from the jupyter notebook\")"
   ]
  },
  {
   "cell_type": "code",
   "execution_count": 2,
   "id": "a0476bcd-2705-4d9b-b1e8-98b493a22b7b",
   "metadata": {},
   "outputs": [
    {
     "name": "stdout",
     "output_type": "stream",
     "text": [
      "Hello, once again\n"
     ]
    }
   ],
   "source": [
    "print(\"Hello, once again\")"
   ]
  },
  {
   "cell_type": "code",
   "execution_count": 3,
   "id": "6e1cd7e0-2071-4a08-a342-4f4d9e7205c2",
   "metadata": {},
   "outputs": [
    {
     "name": "stdout",
     "output_type": "stream",
     "text": [
      "It's fucking amazing\n"
     ]
    }
   ],
   "source": [
    "print(\"It's fucking amazing\")"
   ]
  },
  {
   "cell_type": "code",
   "execution_count": 4,
   "id": "df468aa3-a591-4770-a24e-55a87525108d",
   "metadata": {},
   "outputs": [
    {
     "name": "stdout",
     "output_type": "stream",
     "text": [
      "3888\n"
     ]
    }
   ],
   "source": [
    "print(353 + 3535)"
   ]
  }
 ],
 "metadata": {
  "kernelspec": {
   "display_name": "Python 3 (ipykernel)",
   "language": "python",
   "name": "python3"
  },
  "language_info": {
   "codemirror_mode": {
    "name": "ipython",
    "version": 3
   },
   "file_extension": ".py",
   "mimetype": "text/x-python",
   "name": "python",
   "nbconvert_exporter": "python",
   "pygments_lexer": "ipython3",
   "version": "3.12.1"
  }
 },
 "nbformat": 4,
 "nbformat_minor": 5
}
